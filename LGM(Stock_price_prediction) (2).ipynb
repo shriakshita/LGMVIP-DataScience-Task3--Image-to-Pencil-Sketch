{
  "nbformat": 4,
  "nbformat_minor": 0,
  "metadata": {
    "colab": {
      "name": "LGM(Stock price prediction).ipynb",
      "provenance": []
    },
    "kernelspec": {
      "name": "python3",
      "display_name": "Python 3"
    },
    "language_info": {
      "name": "python"
    }
  },
  "cells": [
    {
      "cell_type": "code",
      "execution_count": 3,
      "metadata": {
        "id": "A8i9Yh91xLhI"
      },
      "outputs": [],
      "source": [
        "import math\n",
        "import numpy as np\n",
        "import pandas as pd\n",
        "from sklearn.preprocessing import MinMaxScaler\n",
        "from tensorflow.keras.models import Sequential \n",
        "from tensorflow.keras.layers import Dense,LSTM,Dropout\n",
        "import matplotlib.pyplot as plt\n",
        "import seaborn as sns\n",
        "from sklearn.metrics import f1_score\n",
        "from sklearn.metrics import confusion_matrix\n",
        "from sklearn.metrics import accuracy_score\n",
        "from sklearn.metrics import mean_absolute_error\n",
        "plt.style.use('fivethirtyeight')"
      ]
    },
    {
      "cell_type": "code",
      "source": [
        "from google.colab import drive\n",
        "drive.mount('/content/drive')"
      ],
      "metadata": {
        "colab": {
          "base_uri": "https://localhost:8080/"
        },
        "id": "MUUfy4fpxjFj",
        "outputId": "9767cf47-1796-4653-ed4f-d56e831c3a71"
      },
      "execution_count": 4,
      "outputs": [
        {
          "output_type": "stream",
          "name": "stdout",
          "text": [
            "Mounted at /content/drive\n"
          ]
        }
      ]
    },
    {
      "cell_type": "code",
      "source": [
        "path = \"/content/drive/MyDrive/NSE-TATAGLOBAL.csv\"\n",
        "df = pd.read_csv(path)"
      ],
      "metadata": {
        "id": "ympcxlRyxlkP"
      },
      "execution_count": 5,
      "outputs": []
    },
    {
      "cell_type": "code",
      "source": [
        "df"
      ],
      "metadata": {
        "colab": {
          "base_uri": "https://localhost:8080/",
          "height": 423
        },
        "id": "uro-dPahxxSo",
        "outputId": "f70e2137-bacf-48f9-a824-f40a1274eb84"
      },
      "execution_count": 6,
      "outputs": [
        {
          "output_type": "execute_result",
          "data": {
            "text/plain": [
              "            Date    Open    High     Low    Last   Close  \\\n",
              "0     2018-09-28  234.05  235.95  230.20  233.50  233.75   \n",
              "1     2018-09-27  234.55  236.80  231.10  233.80  233.25   \n",
              "2     2018-09-26  240.00  240.00  232.50  235.00  234.25   \n",
              "3     2018-09-25  233.30  236.75  232.00  236.25  236.10   \n",
              "4     2018-09-24  233.55  239.20  230.75  234.00  233.30   \n",
              "...          ...     ...     ...     ...     ...     ...   \n",
              "2030  2010-07-27  117.60  119.50  112.00  118.80  118.65   \n",
              "2031  2010-07-26  120.10  121.00  117.10  117.10  117.60   \n",
              "2032  2010-07-23  121.80  121.95  120.25  120.35  120.65   \n",
              "2033  2010-07-22  120.30  122.00  120.25  120.75  120.90   \n",
              "2034  2010-07-21  122.10  123.00  121.05  121.10  121.55   \n",
              "\n",
              "      Total Trade Quantity  Turnover (Lacs)  \n",
              "0                  3069914          7162.35  \n",
              "1                  5082859         11859.95  \n",
              "2                  2240909          5248.60  \n",
              "3                  2349368          5503.90  \n",
              "4                  3423509          7999.55  \n",
              "...                    ...              ...  \n",
              "2030                586100           694.98  \n",
              "2031                658440           780.01  \n",
              "2032                281312           340.31  \n",
              "2033                293312           355.17  \n",
              "2034                658666           803.56  \n",
              "\n",
              "[2035 rows x 8 columns]"
            ],
            "text/html": [
              "\n",
              "  <div id=\"df-df02a954-bd12-4df2-9e52-5af404121b54\">\n",
              "    <div class=\"colab-df-container\">\n",
              "      <div>\n",
              "<style scoped>\n",
              "    .dataframe tbody tr th:only-of-type {\n",
              "        vertical-align: middle;\n",
              "    }\n",
              "\n",
              "    .dataframe tbody tr th {\n",
              "        vertical-align: top;\n",
              "    }\n",
              "\n",
              "    .dataframe thead th {\n",
              "        text-align: right;\n",
              "    }\n",
              "</style>\n",
              "<table border=\"1\" class=\"dataframe\">\n",
              "  <thead>\n",
              "    <tr style=\"text-align: right;\">\n",
              "      <th></th>\n",
              "      <th>Date</th>\n",
              "      <th>Open</th>\n",
              "      <th>High</th>\n",
              "      <th>Low</th>\n",
              "      <th>Last</th>\n",
              "      <th>Close</th>\n",
              "      <th>Total Trade Quantity</th>\n",
              "      <th>Turnover (Lacs)</th>\n",
              "    </tr>\n",
              "  </thead>\n",
              "  <tbody>\n",
              "    <tr>\n",
              "      <th>0</th>\n",
              "      <td>2018-09-28</td>\n",
              "      <td>234.05</td>\n",
              "      <td>235.95</td>\n",
              "      <td>230.20</td>\n",
              "      <td>233.50</td>\n",
              "      <td>233.75</td>\n",
              "      <td>3069914</td>\n",
              "      <td>7162.35</td>\n",
              "    </tr>\n",
              "    <tr>\n",
              "      <th>1</th>\n",
              "      <td>2018-09-27</td>\n",
              "      <td>234.55</td>\n",
              "      <td>236.80</td>\n",
              "      <td>231.10</td>\n",
              "      <td>233.80</td>\n",
              "      <td>233.25</td>\n",
              "      <td>5082859</td>\n",
              "      <td>11859.95</td>\n",
              "    </tr>\n",
              "    <tr>\n",
              "      <th>2</th>\n",
              "      <td>2018-09-26</td>\n",
              "      <td>240.00</td>\n",
              "      <td>240.00</td>\n",
              "      <td>232.50</td>\n",
              "      <td>235.00</td>\n",
              "      <td>234.25</td>\n",
              "      <td>2240909</td>\n",
              "      <td>5248.60</td>\n",
              "    </tr>\n",
              "    <tr>\n",
              "      <th>3</th>\n",
              "      <td>2018-09-25</td>\n",
              "      <td>233.30</td>\n",
              "      <td>236.75</td>\n",
              "      <td>232.00</td>\n",
              "      <td>236.25</td>\n",
              "      <td>236.10</td>\n",
              "      <td>2349368</td>\n",
              "      <td>5503.90</td>\n",
              "    </tr>\n",
              "    <tr>\n",
              "      <th>4</th>\n",
              "      <td>2018-09-24</td>\n",
              "      <td>233.55</td>\n",
              "      <td>239.20</td>\n",
              "      <td>230.75</td>\n",
              "      <td>234.00</td>\n",
              "      <td>233.30</td>\n",
              "      <td>3423509</td>\n",
              "      <td>7999.55</td>\n",
              "    </tr>\n",
              "    <tr>\n",
              "      <th>...</th>\n",
              "      <td>...</td>\n",
              "      <td>...</td>\n",
              "      <td>...</td>\n",
              "      <td>...</td>\n",
              "      <td>...</td>\n",
              "      <td>...</td>\n",
              "      <td>...</td>\n",
              "      <td>...</td>\n",
              "    </tr>\n",
              "    <tr>\n",
              "      <th>2030</th>\n",
              "      <td>2010-07-27</td>\n",
              "      <td>117.60</td>\n",
              "      <td>119.50</td>\n",
              "      <td>112.00</td>\n",
              "      <td>118.80</td>\n",
              "      <td>118.65</td>\n",
              "      <td>586100</td>\n",
              "      <td>694.98</td>\n",
              "    </tr>\n",
              "    <tr>\n",
              "      <th>2031</th>\n",
              "      <td>2010-07-26</td>\n",
              "      <td>120.10</td>\n",
              "      <td>121.00</td>\n",
              "      <td>117.10</td>\n",
              "      <td>117.10</td>\n",
              "      <td>117.60</td>\n",
              "      <td>658440</td>\n",
              "      <td>780.01</td>\n",
              "    </tr>\n",
              "    <tr>\n",
              "      <th>2032</th>\n",
              "      <td>2010-07-23</td>\n",
              "      <td>121.80</td>\n",
              "      <td>121.95</td>\n",
              "      <td>120.25</td>\n",
              "      <td>120.35</td>\n",
              "      <td>120.65</td>\n",
              "      <td>281312</td>\n",
              "      <td>340.31</td>\n",
              "    </tr>\n",
              "    <tr>\n",
              "      <th>2033</th>\n",
              "      <td>2010-07-22</td>\n",
              "      <td>120.30</td>\n",
              "      <td>122.00</td>\n",
              "      <td>120.25</td>\n",
              "      <td>120.75</td>\n",
              "      <td>120.90</td>\n",
              "      <td>293312</td>\n",
              "      <td>355.17</td>\n",
              "    </tr>\n",
              "    <tr>\n",
              "      <th>2034</th>\n",
              "      <td>2010-07-21</td>\n",
              "      <td>122.10</td>\n",
              "      <td>123.00</td>\n",
              "      <td>121.05</td>\n",
              "      <td>121.10</td>\n",
              "      <td>121.55</td>\n",
              "      <td>658666</td>\n",
              "      <td>803.56</td>\n",
              "    </tr>\n",
              "  </tbody>\n",
              "</table>\n",
              "<p>2035 rows × 8 columns</p>\n",
              "</div>\n",
              "      <button class=\"colab-df-convert\" onclick=\"convertToInteractive('df-df02a954-bd12-4df2-9e52-5af404121b54')\"\n",
              "              title=\"Convert this dataframe to an interactive table.\"\n",
              "              style=\"display:none;\">\n",
              "        \n",
              "  <svg xmlns=\"http://www.w3.org/2000/svg\" height=\"24px\"viewBox=\"0 0 24 24\"\n",
              "       width=\"24px\">\n",
              "    <path d=\"M0 0h24v24H0V0z\" fill=\"none\"/>\n",
              "    <path d=\"M18.56 5.44l.94 2.06.94-2.06 2.06-.94-2.06-.94-.94-2.06-.94 2.06-2.06.94zm-11 1L8.5 8.5l.94-2.06 2.06-.94-2.06-.94L8.5 2.5l-.94 2.06-2.06.94zm10 10l.94 2.06.94-2.06 2.06-.94-2.06-.94-.94-2.06-.94 2.06-2.06.94z\"/><path d=\"M17.41 7.96l-1.37-1.37c-.4-.4-.92-.59-1.43-.59-.52 0-1.04.2-1.43.59L10.3 9.45l-7.72 7.72c-.78.78-.78 2.05 0 2.83L4 21.41c.39.39.9.59 1.41.59.51 0 1.02-.2 1.41-.59l7.78-7.78 2.81-2.81c.8-.78.8-2.07 0-2.86zM5.41 20L4 18.59l7.72-7.72 1.47 1.35L5.41 20z\"/>\n",
              "  </svg>\n",
              "      </button>\n",
              "      \n",
              "  <style>\n",
              "    .colab-df-container {\n",
              "      display:flex;\n",
              "      flex-wrap:wrap;\n",
              "      gap: 12px;\n",
              "    }\n",
              "\n",
              "    .colab-df-convert {\n",
              "      background-color: #E8F0FE;\n",
              "      border: none;\n",
              "      border-radius: 50%;\n",
              "      cursor: pointer;\n",
              "      display: none;\n",
              "      fill: #1967D2;\n",
              "      height: 32px;\n",
              "      padding: 0 0 0 0;\n",
              "      width: 32px;\n",
              "    }\n",
              "\n",
              "    .colab-df-convert:hover {\n",
              "      background-color: #E2EBFA;\n",
              "      box-shadow: 0px 1px 2px rgba(60, 64, 67, 0.3), 0px 1px 3px 1px rgba(60, 64, 67, 0.15);\n",
              "      fill: #174EA6;\n",
              "    }\n",
              "\n",
              "    [theme=dark] .colab-df-convert {\n",
              "      background-color: #3B4455;\n",
              "      fill: #D2E3FC;\n",
              "    }\n",
              "\n",
              "    [theme=dark] .colab-df-convert:hover {\n",
              "      background-color: #434B5C;\n",
              "      box-shadow: 0px 1px 3px 1px rgba(0, 0, 0, 0.15);\n",
              "      filter: drop-shadow(0px 1px 2px rgba(0, 0, 0, 0.3));\n",
              "      fill: #FFFFFF;\n",
              "    }\n",
              "  </style>\n",
              "\n",
              "      <script>\n",
              "        const buttonEl =\n",
              "          document.querySelector('#df-df02a954-bd12-4df2-9e52-5af404121b54 button.colab-df-convert');\n",
              "        buttonEl.style.display =\n",
              "          google.colab.kernel.accessAllowed ? 'block' : 'none';\n",
              "\n",
              "        async function convertToInteractive(key) {\n",
              "          const element = document.querySelector('#df-df02a954-bd12-4df2-9e52-5af404121b54');\n",
              "          const dataTable =\n",
              "            await google.colab.kernel.invokeFunction('convertToInteractive',\n",
              "                                                     [key], {});\n",
              "          if (!dataTable) return;\n",
              "\n",
              "          const docLinkHtml = 'Like what you see? Visit the ' +\n",
              "            '<a target=\"_blank\" href=https://colab.research.google.com/notebooks/data_table.ipynb>data table notebook</a>'\n",
              "            + ' to learn more about interactive tables.';\n",
              "          element.innerHTML = '';\n",
              "          dataTable['output_type'] = 'display_data';\n",
              "          await google.colab.output.renderOutput(dataTable, element);\n",
              "          const docLink = document.createElement('div');\n",
              "          docLink.innerHTML = docLinkHtml;\n",
              "          element.appendChild(docLink);\n",
              "        }\n",
              "      </script>\n",
              "    </div>\n",
              "  </div>\n",
              "  "
            ]
          },
          "metadata": {},
          "execution_count": 6
        }
      ]
    },
    {
      "cell_type": "code",
      "source": [
        "df.shape"
      ],
      "metadata": {
        "colab": {
          "base_uri": "https://localhost:8080/"
        },
        "id": "EaKnHiIex1Tr",
        "outputId": "9cadfebd-1c28-4aa7-d398-da9b242e569d"
      },
      "execution_count": 7,
      "outputs": [
        {
          "output_type": "execute_result",
          "data": {
            "text/plain": [
              "(2035, 8)"
            ]
          },
          "metadata": {},
          "execution_count": 7
        }
      ]
    },
    {
      "cell_type": "code",
      "source": [
        "df.dtypes"
      ],
      "metadata": {
        "colab": {
          "base_uri": "https://localhost:8080/"
        },
        "id": "AKphmVpzx3R8",
        "outputId": "c8bd5e56-a80a-4318-b0b3-c1b055f44d0e"
      },
      "execution_count": 8,
      "outputs": [
        {
          "output_type": "execute_result",
          "data": {
            "text/plain": [
              "Date                     object\n",
              "Open                    float64\n",
              "High                    float64\n",
              "Low                     float64\n",
              "Last                    float64\n",
              "Close                   float64\n",
              "Total Trade Quantity      int64\n",
              "Turnover (Lacs)         float64\n",
              "dtype: object"
            ]
          },
          "metadata": {},
          "execution_count": 8
        }
      ]
    },
    {
      "cell_type": "code",
      "source": [
        "df.info()"
      ],
      "metadata": {
        "colab": {
          "base_uri": "https://localhost:8080/"
        },
        "id": "z7F3AzO-x5ZF",
        "outputId": "1efe48c5-155d-42d2-fd49-195c5aa0057d"
      },
      "execution_count": 9,
      "outputs": [
        {
          "output_type": "stream",
          "name": "stdout",
          "text": [
            "<class 'pandas.core.frame.DataFrame'>\n",
            "RangeIndex: 2035 entries, 0 to 2034\n",
            "Data columns (total 8 columns):\n",
            " #   Column                Non-Null Count  Dtype  \n",
            "---  ------                --------------  -----  \n",
            " 0   Date                  2035 non-null   object \n",
            " 1   Open                  2035 non-null   float64\n",
            " 2   High                  2035 non-null   float64\n",
            " 3   Low                   2035 non-null   float64\n",
            " 4   Last                  2035 non-null   float64\n",
            " 5   Close                 2035 non-null   float64\n",
            " 6   Total Trade Quantity  2035 non-null   int64  \n",
            " 7   Turnover (Lacs)       2035 non-null   float64\n",
            "dtypes: float64(6), int64(1), object(1)\n",
            "memory usage: 127.3+ KB\n"
          ]
        }
      ]
    },
    {
      "cell_type": "code",
      "source": [
        "df.isnull().values.any()"
      ],
      "metadata": {
        "colab": {
          "base_uri": "https://localhost:8080/"
        },
        "id": "63oxbbcOx8C1",
        "outputId": "84eae288-a914-4756-bece-db1309296608"
      },
      "execution_count": 10,
      "outputs": [
        {
          "output_type": "execute_result",
          "data": {
            "text/plain": [
              "False"
            ]
          },
          "metadata": {},
          "execution_count": 10
        }
      ]
    },
    {
      "cell_type": "code",
      "source": [
        "df.isnull().sum()"
      ],
      "metadata": {
        "colab": {
          "base_uri": "https://localhost:8080/"
        },
        "id": "LSr-h3w0KQ1j",
        "outputId": "c7b769b8-14a7-45d1-9313-d7fe5e3f1444"
      },
      "execution_count": 11,
      "outputs": [
        {
          "output_type": "execute_result",
          "data": {
            "text/plain": [
              "Date                    0\n",
              "Open                    0\n",
              "High                    0\n",
              "Low                     0\n",
              "Last                    0\n",
              "Close                   0\n",
              "Total Trade Quantity    0\n",
              "Turnover (Lacs)         0\n",
              "dtype: int64"
            ]
          },
          "metadata": {},
          "execution_count": 11
        }
      ]
    },
    {
      "cell_type": "code",
      "source": [
        "print(df.columns)"
      ],
      "metadata": {
        "colab": {
          "base_uri": "https://localhost:8080/"
        },
        "id": "5R0jAFzwx_2y",
        "outputId": "2b32b188-e25d-4cd6-84b0-184c6b9a9588"
      },
      "execution_count": 12,
      "outputs": [
        {
          "output_type": "stream",
          "name": "stdout",
          "text": [
            "Index(['Date', 'Open', 'High', 'Low', 'Last', 'Close', 'Total Trade Quantity',\n",
            "       'Turnover (Lacs)'],\n",
            "      dtype='object')\n"
          ]
        }
      ]
    },
    {
      "cell_type": "code",
      "source": [
        "for Date in df:\n",
        "    print(df[Date].unique())"
      ],
      "metadata": {
        "colab": {
          "base_uri": "https://localhost:8080/"
        },
        "id": "MKN1PjbeyBx0",
        "outputId": "c96ba492-165f-48a3-e9fe-6a6cab3c2ffb"
      },
      "execution_count": 13,
      "outputs": [
        {
          "output_type": "stream",
          "name": "stdout",
          "text": [
            "['2018-09-28' '2018-09-27' '2018-09-26' ... '2010-07-23' '2010-07-22'\n",
            " '2010-07-21']\n",
            "[234.05 234.55 240.   ... 118.3  117.3  120.3 ]\n",
            "[235.95 236.8  240.   ... 121.7  121.95 123.  ]\n",
            "[230.2  231.1  232.5  ... 111.55 113.8  117.2 ]\n",
            "[233.5  233.8  235.   ... 112.05 113.2  121.1 ]\n",
            "[233.75 233.25 234.25 ... 116.5  118.3  116.6 ]\n",
            "[3069914 5082859 2240909 ...  281312  293312  658666]\n",
            "[ 7162.35 11859.95  5248.6  ...   340.31   355.17   803.56]\n"
          ]
        }
      ]
    },
    {
      "cell_type": "code",
      "source": [
        "df"
      ],
      "metadata": {
        "colab": {
          "base_uri": "https://localhost:8080/",
          "height": 423
        },
        "id": "A89TU86nyGYw",
        "outputId": "d4b29fe5-c366-4fcc-a7dd-27dc4e9fd5ae"
      },
      "execution_count": 14,
      "outputs": [
        {
          "output_type": "execute_result",
          "data": {
            "text/plain": [
              "            Date    Open    High     Low    Last   Close  \\\n",
              "0     2018-09-28  234.05  235.95  230.20  233.50  233.75   \n",
              "1     2018-09-27  234.55  236.80  231.10  233.80  233.25   \n",
              "2     2018-09-26  240.00  240.00  232.50  235.00  234.25   \n",
              "3     2018-09-25  233.30  236.75  232.00  236.25  236.10   \n",
              "4     2018-09-24  233.55  239.20  230.75  234.00  233.30   \n",
              "...          ...     ...     ...     ...     ...     ...   \n",
              "2030  2010-07-27  117.60  119.50  112.00  118.80  118.65   \n",
              "2031  2010-07-26  120.10  121.00  117.10  117.10  117.60   \n",
              "2032  2010-07-23  121.80  121.95  120.25  120.35  120.65   \n",
              "2033  2010-07-22  120.30  122.00  120.25  120.75  120.90   \n",
              "2034  2010-07-21  122.10  123.00  121.05  121.10  121.55   \n",
              "\n",
              "      Total Trade Quantity  Turnover (Lacs)  \n",
              "0                  3069914          7162.35  \n",
              "1                  5082859         11859.95  \n",
              "2                  2240909          5248.60  \n",
              "3                  2349368          5503.90  \n",
              "4                  3423509          7999.55  \n",
              "...                    ...              ...  \n",
              "2030                586100           694.98  \n",
              "2031                658440           780.01  \n",
              "2032                281312           340.31  \n",
              "2033                293312           355.17  \n",
              "2034                658666           803.56  \n",
              "\n",
              "[2035 rows x 8 columns]"
            ],
            "text/html": [
              "\n",
              "  <div id=\"df-07870390-7d2b-4875-a74c-6ffc60daa543\">\n",
              "    <div class=\"colab-df-container\">\n",
              "      <div>\n",
              "<style scoped>\n",
              "    .dataframe tbody tr th:only-of-type {\n",
              "        vertical-align: middle;\n",
              "    }\n",
              "\n",
              "    .dataframe tbody tr th {\n",
              "        vertical-align: top;\n",
              "    }\n",
              "\n",
              "    .dataframe thead th {\n",
              "        text-align: right;\n",
              "    }\n",
              "</style>\n",
              "<table border=\"1\" class=\"dataframe\">\n",
              "  <thead>\n",
              "    <tr style=\"text-align: right;\">\n",
              "      <th></th>\n",
              "      <th>Date</th>\n",
              "      <th>Open</th>\n",
              "      <th>High</th>\n",
              "      <th>Low</th>\n",
              "      <th>Last</th>\n",
              "      <th>Close</th>\n",
              "      <th>Total Trade Quantity</th>\n",
              "      <th>Turnover (Lacs)</th>\n",
              "    </tr>\n",
              "  </thead>\n",
              "  <tbody>\n",
              "    <tr>\n",
              "      <th>0</th>\n",
              "      <td>2018-09-28</td>\n",
              "      <td>234.05</td>\n",
              "      <td>235.95</td>\n",
              "      <td>230.20</td>\n",
              "      <td>233.50</td>\n",
              "      <td>233.75</td>\n",
              "      <td>3069914</td>\n",
              "      <td>7162.35</td>\n",
              "    </tr>\n",
              "    <tr>\n",
              "      <th>1</th>\n",
              "      <td>2018-09-27</td>\n",
              "      <td>234.55</td>\n",
              "      <td>236.80</td>\n",
              "      <td>231.10</td>\n",
              "      <td>233.80</td>\n",
              "      <td>233.25</td>\n",
              "      <td>5082859</td>\n",
              "      <td>11859.95</td>\n",
              "    </tr>\n",
              "    <tr>\n",
              "      <th>2</th>\n",
              "      <td>2018-09-26</td>\n",
              "      <td>240.00</td>\n",
              "      <td>240.00</td>\n",
              "      <td>232.50</td>\n",
              "      <td>235.00</td>\n",
              "      <td>234.25</td>\n",
              "      <td>2240909</td>\n",
              "      <td>5248.60</td>\n",
              "    </tr>\n",
              "    <tr>\n",
              "      <th>3</th>\n",
              "      <td>2018-09-25</td>\n",
              "      <td>233.30</td>\n",
              "      <td>236.75</td>\n",
              "      <td>232.00</td>\n",
              "      <td>236.25</td>\n",
              "      <td>236.10</td>\n",
              "      <td>2349368</td>\n",
              "      <td>5503.90</td>\n",
              "    </tr>\n",
              "    <tr>\n",
              "      <th>4</th>\n",
              "      <td>2018-09-24</td>\n",
              "      <td>233.55</td>\n",
              "      <td>239.20</td>\n",
              "      <td>230.75</td>\n",
              "      <td>234.00</td>\n",
              "      <td>233.30</td>\n",
              "      <td>3423509</td>\n",
              "      <td>7999.55</td>\n",
              "    </tr>\n",
              "    <tr>\n",
              "      <th>...</th>\n",
              "      <td>...</td>\n",
              "      <td>...</td>\n",
              "      <td>...</td>\n",
              "      <td>...</td>\n",
              "      <td>...</td>\n",
              "      <td>...</td>\n",
              "      <td>...</td>\n",
              "      <td>...</td>\n",
              "    </tr>\n",
              "    <tr>\n",
              "      <th>2030</th>\n",
              "      <td>2010-07-27</td>\n",
              "      <td>117.60</td>\n",
              "      <td>119.50</td>\n",
              "      <td>112.00</td>\n",
              "      <td>118.80</td>\n",
              "      <td>118.65</td>\n",
              "      <td>586100</td>\n",
              "      <td>694.98</td>\n",
              "    </tr>\n",
              "    <tr>\n",
              "      <th>2031</th>\n",
              "      <td>2010-07-26</td>\n",
              "      <td>120.10</td>\n",
              "      <td>121.00</td>\n",
              "      <td>117.10</td>\n",
              "      <td>117.10</td>\n",
              "      <td>117.60</td>\n",
              "      <td>658440</td>\n",
              "      <td>780.01</td>\n",
              "    </tr>\n",
              "    <tr>\n",
              "      <th>2032</th>\n",
              "      <td>2010-07-23</td>\n",
              "      <td>121.80</td>\n",
              "      <td>121.95</td>\n",
              "      <td>120.25</td>\n",
              "      <td>120.35</td>\n",
              "      <td>120.65</td>\n",
              "      <td>281312</td>\n",
              "      <td>340.31</td>\n",
              "    </tr>\n",
              "    <tr>\n",
              "      <th>2033</th>\n",
              "      <td>2010-07-22</td>\n",
              "      <td>120.30</td>\n",
              "      <td>122.00</td>\n",
              "      <td>120.25</td>\n",
              "      <td>120.75</td>\n",
              "      <td>120.90</td>\n",
              "      <td>293312</td>\n",
              "      <td>355.17</td>\n",
              "    </tr>\n",
              "    <tr>\n",
              "      <th>2034</th>\n",
              "      <td>2010-07-21</td>\n",
              "      <td>122.10</td>\n",
              "      <td>123.00</td>\n",
              "      <td>121.05</td>\n",
              "      <td>121.10</td>\n",
              "      <td>121.55</td>\n",
              "      <td>658666</td>\n",
              "      <td>803.56</td>\n",
              "    </tr>\n",
              "  </tbody>\n",
              "</table>\n",
              "<p>2035 rows × 8 columns</p>\n",
              "</div>\n",
              "      <button class=\"colab-df-convert\" onclick=\"convertToInteractive('df-07870390-7d2b-4875-a74c-6ffc60daa543')\"\n",
              "              title=\"Convert this dataframe to an interactive table.\"\n",
              "              style=\"display:none;\">\n",
              "        \n",
              "  <svg xmlns=\"http://www.w3.org/2000/svg\" height=\"24px\"viewBox=\"0 0 24 24\"\n",
              "       width=\"24px\">\n",
              "    <path d=\"M0 0h24v24H0V0z\" fill=\"none\"/>\n",
              "    <path d=\"M18.56 5.44l.94 2.06.94-2.06 2.06-.94-2.06-.94-.94-2.06-.94 2.06-2.06.94zm-11 1L8.5 8.5l.94-2.06 2.06-.94-2.06-.94L8.5 2.5l-.94 2.06-2.06.94zm10 10l.94 2.06.94-2.06 2.06-.94-2.06-.94-.94-2.06-.94 2.06-2.06.94z\"/><path d=\"M17.41 7.96l-1.37-1.37c-.4-.4-.92-.59-1.43-.59-.52 0-1.04.2-1.43.59L10.3 9.45l-7.72 7.72c-.78.78-.78 2.05 0 2.83L4 21.41c.39.39.9.59 1.41.59.51 0 1.02-.2 1.41-.59l7.78-7.78 2.81-2.81c.8-.78.8-2.07 0-2.86zM5.41 20L4 18.59l7.72-7.72 1.47 1.35L5.41 20z\"/>\n",
              "  </svg>\n",
              "      </button>\n",
              "      \n",
              "  <style>\n",
              "    .colab-df-container {\n",
              "      display:flex;\n",
              "      flex-wrap:wrap;\n",
              "      gap: 12px;\n",
              "    }\n",
              "\n",
              "    .colab-df-convert {\n",
              "      background-color: #E8F0FE;\n",
              "      border: none;\n",
              "      border-radius: 50%;\n",
              "      cursor: pointer;\n",
              "      display: none;\n",
              "      fill: #1967D2;\n",
              "      height: 32px;\n",
              "      padding: 0 0 0 0;\n",
              "      width: 32px;\n",
              "    }\n",
              "\n",
              "    .colab-df-convert:hover {\n",
              "      background-color: #E2EBFA;\n",
              "      box-shadow: 0px 1px 2px rgba(60, 64, 67, 0.3), 0px 1px 3px 1px rgba(60, 64, 67, 0.15);\n",
              "      fill: #174EA6;\n",
              "    }\n",
              "\n",
              "    [theme=dark] .colab-df-convert {\n",
              "      background-color: #3B4455;\n",
              "      fill: #D2E3FC;\n",
              "    }\n",
              "\n",
              "    [theme=dark] .colab-df-convert:hover {\n",
              "      background-color: #434B5C;\n",
              "      box-shadow: 0px 1px 3px 1px rgba(0, 0, 0, 0.15);\n",
              "      filter: drop-shadow(0px 1px 2px rgba(0, 0, 0, 0.3));\n",
              "      fill: #FFFFFF;\n",
              "    }\n",
              "  </style>\n",
              "\n",
              "      <script>\n",
              "        const buttonEl =\n",
              "          document.querySelector('#df-07870390-7d2b-4875-a74c-6ffc60daa543 button.colab-df-convert');\n",
              "        buttonEl.style.display =\n",
              "          google.colab.kernel.accessAllowed ? 'block' : 'none';\n",
              "\n",
              "        async function convertToInteractive(key) {\n",
              "          const element = document.querySelector('#df-07870390-7d2b-4875-a74c-6ffc60daa543');\n",
              "          const dataTable =\n",
              "            await google.colab.kernel.invokeFunction('convertToInteractive',\n",
              "                                                     [key], {});\n",
              "          if (!dataTable) return;\n",
              "\n",
              "          const docLinkHtml = 'Like what you see? Visit the ' +\n",
              "            '<a target=\"_blank\" href=https://colab.research.google.com/notebooks/data_table.ipynb>data table notebook</a>'\n",
              "            + ' to learn more about interactive tables.';\n",
              "          element.innerHTML = '';\n",
              "          dataTable['output_type'] = 'display_data';\n",
              "          await google.colab.output.renderOutput(dataTable, element);\n",
              "          const docLink = document.createElement('div');\n",
              "          docLink.innerHTML = docLinkHtml;\n",
              "          element.appendChild(docLink);\n",
              "        }\n",
              "      </script>\n",
              "    </div>\n",
              "  </div>\n",
              "  "
            ]
          },
          "metadata": {},
          "execution_count": 14
        }
      ]
    },
    {
      "cell_type": "code",
      "source": [
        "df_high=df.reset_index()['High']\n",
        "plt.plot(df_high)"
      ],
      "metadata": {
        "colab": {
          "base_uri": "https://localhost:8080/",
          "height": 299
        },
        "id": "aH-Xm-XjKZnj",
        "outputId": "f264fe7f-9c0f-474c-eb12-94f492c99237"
      },
      "execution_count": 15,
      "outputs": [
        {
          "output_type": "execute_result",
          "data": {
            "text/plain": [
              "[<matplotlib.lines.Line2D at 0x7f8da0823910>]"
            ]
          },
          "metadata": {},
          "execution_count": 15
        },
        {
          "output_type": "display_data",
          "data": {
            "text/plain": [
              "<Figure size 432x288 with 1 Axes>"
            ],
            "image/png": "[encoded data removed]"
          },
          "metadata": {}
        }
      ]
    },
    {
      "cell_type": "code",
      "source": [
        "scaler = MinMaxScaler(feature_range = (0,1))\n",
        "df_new = scaler.fit_transform(np.array(df_high).reshape(-1,1))"
      ],
      "metadata": {
        "id": "M88OSjpmKjOP"
      },
      "execution_count": 16,
      "outputs": []
    },
    {
      "cell_type": "code",
      "source": [
        "df.date=pd.to_datetime(df.Date)\n",
        "df"
      ],
      "metadata": {
        "colab": {
          "base_uri": "https://localhost:8080/",
          "height": 478
        },
        "id": "RxkRIk81z0R8",
        "outputId": "fe90c47a-0a58-4a75-d3ed-52ca7a49268c"
      },
      "execution_count": 17,
      "outputs": [
        {
          "output_type": "stream",
          "name": "stderr",
          "text": [
            "/usr/local/lib/python3.7/dist-packages/ipykernel_launcher.py:1: UserWarning: Pandas doesn't allow columns to be created via a new attribute name - see https://pandas.pydata.org/pandas-docs/stable/indexing.html#attribute-access\n",
            "  \"\"\"Entry point for launching an IPython kernel.\n"
          ]
        },
        {
          "output_type": "execute_result",
          "data": {
            "text/plain": [
              "            Date    Open    High     Low    Last   Close  \\\n",
              "0     2018-09-28  234.05  235.95  230.20  233.50  233.75   \n",
              "1     2018-09-27  234.55  236.80  231.10  233.80  233.25   \n",
              "2     2018-09-26  240.00  240.00  232.50  235.00  234.25   \n",
              "3     2018-09-25  233.30  236.75  232.00  236.25  236.10   \n",
              "4     2018-09-24  233.55  239.20  230.75  234.00  233.30   \n",
              "...          ...     ...     ...     ...     ...     ...   \n",
              "2030  2010-07-27  117.60  119.50  112.00  118.80  118.65   \n",
              "2031  2010-07-26  120.10  121.00  117.10  117.10  117.60   \n",
              "2032  2010-07-23  121.80  121.95  120.25  120.35  120.65   \n",
              "2033  2010-07-22  120.30  122.00  120.25  120.75  120.90   \n",
              "2034  2010-07-21  122.10  123.00  121.05  121.10  121.55   \n",
              "\n",
              "      Total Trade Quantity  Turnover (Lacs)  \n",
              "0                  3069914          7162.35  \n",
              "1                  5082859         11859.95  \n",
              "2                  2240909          5248.60  \n",
              "3                  2349368          5503.90  \n",
              "4                  3423509          7999.55  \n",
              "...                    ...              ...  \n",
              "2030                586100           694.98  \n",
              "2031                658440           780.01  \n",
              "2032                281312           340.31  \n",
              "2033                293312           355.17  \n",
              "2034                658666           803.56  \n",
              "\n",
              "[2035 rows x 8 columns]"
            ],
            "text/html": [
              "\n",
              "  <div id=\"df-e7b29a80-0589-4d7c-95f1-273b6a58ed65\">\n",
              "    <div class=\"colab-df-container\">\n",
              "      <div>\n",
              "<style scoped>\n",
              "    .dataframe tbody tr th:only-of-type {\n",
              "        vertical-align: middle;\n",
              "    }\n",
              "\n",
              "    .dataframe tbody tr th {\n",
              "        vertical-align: top;\n",
              "    }\n",
              "\n",
              "    .dataframe thead th {\n",
              "        text-align: right;\n",
              "    }\n",
              "</style>\n",
              "<table border=\"1\" class=\"dataframe\">\n",
              "  <thead>\n",
              "    <tr style=\"text-align: right;\">\n",
              "      <th></th>\n",
              "      <th>Date</th>\n",
              "      <th>Open</th>\n",
              "      <th>High</th>\n",
              "      <th>Low</th>\n",
              "      <th>Last</th>\n",
              "      <th>Close</th>\n",
              "      <th>Total Trade Quantity</th>\n",
              "      <th>Turnover (Lacs)</th>\n",
              "    </tr>\n",
              "  </thead>\n",
              "  <tbody>\n",
              "    <tr>\n",
              "      <th>0</th>\n",
              "      <td>2018-09-28</td>\n",
              "      <td>234.05</td>\n",
              "      <td>235.95</td>\n",
              "      <td>230.20</td>\n",
              "      <td>233.50</td>\n",
              "      <td>233.75</td>\n",
              "      <td>3069914</td>\n",
              "      <td>7162.35</td>\n",
              "    </tr>\n",
              "    <tr>\n",
              "      <th>1</th>\n",
              "      <td>2018-09-27</td>\n",
              "      <td>234.55</td>\n",
              "      <td>236.80</td>\n",
              "      <td>231.10</td>\n",
              "      <td>233.80</td>\n",
              "      <td>233.25</td>\n",
              "      <td>5082859</td>\n",
              "      <td>11859.95</td>\n",
              "    </tr>\n",
              "    <tr>\n",
              "      <th>2</th>\n",
              "      <td>2018-09-26</td>\n",
              "      <td>240.00</td>\n",
              "      <td>240.00</td>\n",
              "      <td>232.50</td>\n",
              "      <td>235.00</td>\n",
              "      <td>234.25</td>\n",
              "      <td>2240909</td>\n",
              "      <td>5248.60</td>\n",
              "    </tr>\n",
              "    <tr>\n",
              "      <th>3</th>\n",
              "      <td>2018-09-25</td>\n",
              "      <td>233.30</td>\n",
              "      <td>236.75</td>\n",
              "      <td>232.00</td>\n",
              "      <td>236.25</td>\n",
              "      <td>236.10</td>\n",
              "      <td>2349368</td>\n",
              "      <td>5503.90</td>\n",
              "    </tr>\n",
              "    <tr>\n",
              "      <th>4</th>\n",
              "      <td>2018-09-24</td>\n",
              "      <td>233.55</td>\n",
              "      <td>239.20</td>\n",
              "      <td>230.75</td>\n",
              "      <td>234.00</td>\n",
              "      <td>233.30</td>\n",
              "      <td>3423509</td>\n",
              "      <td>7999.55</td>\n",
              "    </tr>\n",
              "    <tr>\n",
              "      <th>...</th>\n",
              "      <td>...</td>\n",
              "      <td>...</td>\n",
              "      <td>...</td>\n",
              "      <td>...</td>\n",
              "      <td>...</td>\n",
              "      <td>...</td>\n",
              "      <td>...</td>\n",
              "      <td>...</td>\n",
              "    </tr>\n",
              "    <tr>\n",
              "      <th>2030</th>\n",
              "      <td>2010-07-27</td>\n",
              "      <td>117.60</td>\n",
              "      <td>119.50</td>\n",
              "      <td>112.00</td>\n",
              "      <td>118.80</td>\n",
              "      <td>118.65</td>\n",
              "      <td>586100</td>\n",
              "      <td>694.98</td>\n",
              "    </tr>\n",
              "    <tr>\n",
              "      <th>2031</th>\n",
              "      <td>2010-07-26</td>\n",
              "      <td>120.10</td>\n",
              "      <td>121.00</td>\n",
              "      <td>117.10</td>\n",
              "      <td>117.10</td>\n",
              "      <td>117.60</td>\n",
              "      <td>658440</td>\n",
              "      <td>780.01</td>\n",
              "    </tr>\n",
              "    <tr>\n",
              "      <th>2032</th>\n",
              "      <td>2010-07-23</td>\n",
              "      <td>121.80</td>\n",
              "      <td>121.95</td>\n",
              "      <td>120.25</td>\n",
              "      <td>120.35</td>\n",
              "      <td>120.65</td>\n",
              "      <td>281312</td>\n",
              "      <td>340.31</td>\n",
              "    </tr>\n",
              "    <tr>\n",
              "      <th>2033</th>\n",
              "      <td>2010-07-22</td>\n",
              "      <td>120.30</td>\n",
              "      <td>122.00</td>\n",
              "      <td>120.25</td>\n",
              "      <td>120.75</td>\n",
              "      <td>120.90</td>\n",
              "      <td>293312</td>\n",
              "      <td>355.17</td>\n",
              "    </tr>\n",
              "    <tr>\n",
              "      <th>2034</th>\n",
              "      <td>2010-07-21</td>\n",
              "      <td>122.10</td>\n",
              "      <td>123.00</td>\n",
              "      <td>121.05</td>\n",
              "      <td>121.10</td>\n",
              "      <td>121.55</td>\n",
              "      <td>658666</td>\n",
              "      <td>803.56</td>\n",
              "    </tr>\n",
              "  </tbody>\n",
              "</table>\n",
              "<p>2035 rows × 8 columns</p>\n",
              "</div>\n",
              "      <button class=\"colab-df-convert\" onclick=\"convertToInteractive('df-e7b29a80-0589-4d7c-95f1-273b6a58ed65')\"\n",
              "              title=\"Convert this dataframe to an interactive table.\"\n",
              "              style=\"display:none;\">\n",
              "        \n",
              "  <svg xmlns=\"http://www.w3.org/2000/svg\" height=\"24px\"viewBox=\"0 0 24 24\"\n",
              "       width=\"24px\">\n",
              "    <path d=\"M0 0h24v24H0V0z\" fill=\"none\"/>\n",
              "    <path d=\"M18.56 5.44l.94 2.06.94-2.06 2.06-.94-2.06-.94-.94-2.06-.94 2.06-2.06.94zm-11 1L8.5 8.5l.94-2.06 2.06-.94-2.06-.94L8.5 2.5l-.94 2.06-2.06.94zm10 10l.94 2.06.94-2.06 2.06-.94-2.06-.94-.94-2.06-.94 2.06-2.06.94z\"/><path d=\"M17.41 7.96l-1.37-1.37c-.4-.4-.92-.59-1.43-.59-.52 0-1.04.2-1.43.59L10.3 9.45l-7.72 7.72c-.78.78-.78 2.05 0 2.83L4 21.41c.39.39.9.59 1.41.59.51 0 1.02-.2 1.41-.59l7.78-7.78 2.81-2.81c.8-.78.8-2.07 0-2.86zM5.41 20L4 18.59l7.72-7.72 1.47 1.35L5.41 20z\"/>\n",
              "  </svg>\n",
              "      </button>\n",
              "      \n",
              "  <style>\n",
              "    .colab-df-container {\n",
              "      display:flex;\n",
              "      flex-wrap:wrap;\n",
              "      gap: 12px;\n",
              "    }\n",
              "\n",
              "    .colab-df-convert {\n",
              "      background-color: #E8F0FE;\n",
              "      border: none;\n",
              "      border-radius: 50%;\n",
              "      cursor: pointer;\n",
              "      display: none;\n",
              "      fill: #1967D2;\n",
              "      height: 32px;\n",
              "      padding: 0 0 0 0;\n",
              "      width: 32px;\n",
              "    }\n",
              "\n",
              "    .colab-df-convert:hover {\n",
              "      background-color: #E2EBFA;\n",
              "      box-shadow: 0px 1px 2px rgba(60, 64, 67, 0.3), 0px 1px 3px 1px rgba(60, 64, 67, 0.15);\n",
              "      fill: #174EA6;\n",
              "    }\n",
              "\n",
              "    [theme=dark] .colab-df-convert {\n",
              "      background-color: #3B4455;\n",
              "      fill: #D2E3FC;\n",
              "    }\n",
              "\n",
              "    [theme=dark] .colab-df-convert:hover {\n",
              "      background-color: #434B5C;\n",
              "      box-shadow: 0px 1px 3px 1px rgba(0, 0, 0, 0.15);\n",
              "      filter: drop-shadow(0px 1px 2px rgba(0, 0, 0, 0.3));\n",
              "      fill: #FFFFFF;\n",
              "    }\n",
              "  </style>\n",
              "\n",
              "      <script>\n",
              "        const buttonEl =\n",
              "          document.querySelector('#df-e7b29a80-0589-4d7c-95f1-273b6a58ed65 button.colab-df-convert');\n",
              "        buttonEl.style.display =\n",
              "          google.colab.kernel.accessAllowed ? 'block' : 'none';\n",
              "\n",
              "        async function convertToInteractive(key) {\n",
              "          const element = document.querySelector('#df-e7b29a80-0589-4d7c-95f1-273b6a58ed65');\n",
              "          const dataTable =\n",
              "            await google.colab.kernel.invokeFunction('convertToInteractive',\n",
              "                                                     [key], {});\n",
              "          if (!dataTable) return;\n",
              "\n",
              "          const docLinkHtml = 'Like what you see? Visit the ' +\n",
              "            '<a target=\"_blank\" href=https://colab.research.google.com/notebooks/data_table.ipynb>data table notebook</a>'\n",
              "            + ' to learn more about interactive tables.';\n",
              "          element.innerHTML = '';\n",
              "          dataTable['output_type'] = 'display_data';\n",
              "          await google.colab.output.renderOutput(dataTable, element);\n",
              "          const docLink = document.createElement('div');\n",
              "          docLink.innerHTML = docLinkHtml;\n",
              "          element.appendChild(docLink);\n",
              "        }\n",
              "      </script>\n",
              "    </div>\n",
              "  </div>\n",
              "  "
            ]
          },
          "metadata": {},
          "execution_count": 17
        }
      ]
    },
    {
      "cell_type": "code",
      "source": [
        "df['Date'] = pd.to_datetime(df['Date'], errors='coerce')\n",
        "df['Date']"
      ],
      "metadata": {
        "colab": {
          "base_uri": "https://localhost:8080/"
        },
        "id": "V9GHk2XT0fpi",
        "outputId": "1f2d9758-edcd-4080-cb85-1dceefba19d8"
      },
      "execution_count": 18,
      "outputs": [
        {
          "output_type": "execute_result",
          "data": {
            "text/plain": [
              "0      2018-09-28\n",
              "1      2018-09-27\n",
              "2      2018-09-26\n",
              "3      2018-09-25\n",
              "4      2018-09-24\n",
              "          ...    \n",
              "2030   2010-07-27\n",
              "2031   2010-07-26\n",
              "2032   2010-07-23\n",
              "2033   2010-07-22\n",
              "2034   2010-07-21\n",
              "Name: Date, Length: 2035, dtype: datetime64[ns]"
            ]
          },
          "metadata": {},
          "execution_count": 18
        }
      ]
    },
    {
      "cell_type": "code",
      "source": [
        "Date_year=df['Date'].dt.year\n",
        "print(Date_year)"
      ],
      "metadata": {
        "colab": {
          "base_uri": "https://localhost:8080/"
        },
        "id": "qbidHbqZzV-m",
        "outputId": "80da2917-cef9-4fd6-f7df-e4e6b86851bd"
      },
      "execution_count": 19,
      "outputs": [
        {
          "output_type": "stream",
          "name": "stdout",
          "text": [
            "0       2018\n",
            "1       2018\n",
            "2       2018\n",
            "3       2018\n",
            "4       2018\n",
            "        ... \n",
            "2030    2010\n",
            "2031    2010\n",
            "2032    2010\n",
            "2033    2010\n",
            "2034    2010\n",
            "Name: Date, Length: 2035, dtype: int64\n"
          ]
        }
      ]
    },
    {
      "cell_type": "code",
      "source": [
        "Date_year.unique()"
      ],
      "metadata": {
        "colab": {
          "base_uri": "https://localhost:8080/"
        },
        "id": "sDOrZ6L-zjk-",
        "outputId": "cc2dd760-470d-4ebb-b2a0-00835d0f334d"
      },
      "execution_count": 20,
      "outputs": [
        {
          "output_type": "execute_result",
          "data": {
            "text/plain": [
              "array([2018, 2017, 2016, 2015, 2014, 2013, 2012, 2011, 2010])"
            ]
          },
          "metadata": {},
          "execution_count": 20
        }
      ]
    },
    {
      "cell_type": "code",
      "source": [
        "plt.figure(figsize=(16,8))\n",
        "plt.title('Close Price History of the data',fontsize=20)\n",
        "plt.plot(df['Close'],color='green')\n",
        "plt.xlabel('Year',fontsize=18)\n",
        "plt.ylabel('Close Price USD ($)',fontsize=18)\n",
        "plt.show()"
      ],
      "metadata": {
        "colab": {
          "base_uri": "https://localhost:8080/",
          "height": 558
        },
        "id": "UIqFWGTp0wQK",
        "outputId": "3cd256b8-53b3-4a7c-ae35-8f0cda1fa8b1"
      },
      "execution_count": 21,
      "outputs": [
        {
          "output_type": "display_data",
          "data": {
            "text/plain": [
              "<Figure size 1152x576 with 1 Axes>"
            ],
            "image/png": "[encoded data removed]"
          },
          "metadata": {}
        }
      ]
    },
    {
      "cell_type": "code",
      "source": [
        "plt.figure(figsize=(16,8))\n",
        "plt.title('Highest Price History of the data',fontsize=20)\n",
        "plt.plot(df['High'],color='blue')\n",
        "plt.xlabel('Year',fontsize=18)\n",
        "plt.ylabel('High Price USD ($)',fontsize=18)\n",
        "plt.show()"
      ],
      "metadata": {
        "colab": {
          "base_uri": "https://localhost:8080/",
          "height": 558
        },
        "id": "UPEplEZ7KwAd",
        "outputId": "feb7a817-fc0d-447f-d817-cbe055806a02"
      },
      "execution_count": 22,
      "outputs": [
        {
          "output_type": "display_data",
          "data": {
            "text/plain": [
              "<Figure size 1152x576 with 1 Axes>"
            ],
            "image/png": "[encoded data removed]"
          },
          "metadata": {}
        }
      ]
    },
    {
      "cell_type": "code",
      "source": [
        "sns.distplot(df['Close'].dropna(),bins=100,color='green')"
      ],
      "metadata": {
        "colab": {
          "base_uri": "https://localhost:8080/",
          "height": 376
        },
        "id": "Qvg9uO7P1E9w",
        "outputId": "f9e7d0ba-0682-47c2-8b06-fbda3efdb1cd"
      },
      "execution_count": 23,
      "outputs": [
        {
          "output_type": "stream",
          "name": "stderr",
          "text": [
            "/usr/local/lib/python3.7/dist-packages/seaborn/distributions.py:2619: FutureWarning: `distplot` is a deprecated function and will be removed in a future version. Please adapt your code to use either `displot` (a figure-level function with similar flexibility) or `histplot` (an axes-level function for histograms).\n",
            "  warnings.warn(msg, FutureWarning)\n"
          ]
        },
        {
          "output_type": "execute_result",
          "data": {
            "text/plain": [
              "<matplotlib.axes._subplots.AxesSubplot at 0x7f8d9ea65f90>"
            ]
          },
          "metadata": {},
          "execution_count": 23
        },
        {
          "output_type": "display_data",
          "data": {
            "text/plain": [
              "<Figure size 432x288 with 1 Axes>"
            ],
            "image/png": "[encoded data removed]"
          },
          "metadata": {}
        }
      ]
    },
    {
      "cell_type": "code",
      "source": [
        "data=df.filter(['Close'])"
      ],
      "metadata": {
        "id": "XP2rlmcZ1LPG"
      },
      "execution_count": 24,
      "outputs": []
    },
    {
      "cell_type": "code",
      "source": [
        "dataset=data.values"
      ],
      "metadata": {
        "id": "yyR1QorS1SK7"
      },
      "execution_count": 25,
      "outputs": []
    },
    {
      "cell_type": "code",
      "source": [
        "training_data_len=math.ceil(len(dataset)*0.8)\n",
        "training_data_len"
      ],
      "metadata": {
        "colab": {
          "base_uri": "https://localhost:8080/"
        },
        "id": "7QUcPdr11VWG",
        "outputId": "8b0d745d-cbc3-4267-948e-d23c4d5bfebe"
      },
      "execution_count": 26,
      "outputs": [
        {
          "output_type": "execute_result",
          "data": {
            "text/plain": [
              "1628"
            ]
          },
          "metadata": {},
          "execution_count": 26
        }
      ]
    },
    {
      "cell_type": "code",
      "source": [
        "scaler=MinMaxScaler(feature_range=(0,1))\n",
        "scale_data=scaler.fit_transform(dataset)\n",
        "\n",
        "scale_data"
      ],
      "metadata": {
        "colab": {
          "base_uri": "https://localhost:8080/"
        },
        "id": "T7lOsuaD1XgO",
        "outputId": "1b3ddb0f-b7d7-4534-f80b-825e18442b48"
      },
      "execution_count": 27,
      "outputs": [
        {
          "output_type": "execute_result",
          "data": {
            "text/plain": [
              "array([[0.62418301],\n",
              "       [0.62214052],\n",
              "       [0.62622549],\n",
              "       ...,\n",
              "       [0.1621732 ],\n",
              "       [0.16319444],\n",
              "       [0.16584967]])"
            ]
          },
          "metadata": {},
          "execution_count": 27
        }
      ]
    },
    {
      "cell_type": "code",
      "source": [
        "#creating the training dataset and scaled training dataset\n",
        "train_data=scale_data[0:training_data_len,:]\n",
        "\n",
        "#split the data into x_train and y_train datasets\n",
        "x_train=[]\n",
        "y_train=[]\n",
        "\n",
        "for i in range (80,len(train_data)):\n",
        "  x_train.append(train_data[i-80:i,0])\n",
        "  y_train.append(train_data[i,0])\n",
        "  if i<=81:\n",
        "    print(x_train)\n",
        "    print(y_train)\n",
        "    print()"
      ],
      "metadata": {
        "colab": {
          "base_uri": "https://localhost:8080/"
        },
        "id": "LAn0YGWS1Znb",
        "outputId": "2d5ad124-c0d2-4098-ef1b-ae3acefb314d"
      },
      "execution_count": 28,
      "outputs": [
        {
          "output_type": "stream",
          "name": "stdout",
          "text": [
            "[array([0.62418301, 0.62214052, 0.62622549, 0.63378268, 0.62234477,\n",
            "       0.62765523, 0.62888072, 0.62949346, 0.63582516, 0.625     ,\n",
            "       0.57883987, 0.55167484, 0.57618464, 0.58006536, 0.57230392,\n",
            "       0.57781863, 0.58312908, 0.63623366, 0.62642974, 0.63337418,\n",
            "       0.62745098, 0.62254902, 0.6376634 , 0.61294935, 0.63112745,\n",
            "       0.65196078, 0.67075163, 0.66196895, 0.64705882, 0.63970588,\n",
            "       0.62745098, 0.62336601, 0.63868464, 0.63480392, 0.63991013,\n",
            "       0.64767157, 0.62785948, 0.63112745, 0.63194444, 0.67790033,\n",
            "       0.65870098, 0.65890523, 0.64603758, 0.63705065, 0.67544935,\n",
            "       0.66319444, 0.6439951 , 0.62152778, 0.64419935, 0.68198529,\n",
            "       0.6629902 , 0.72691993, 0.75265523, 0.77144608, 0.79166667,\n",
            "       0.79370915, 0.75714869, 0.77736928, 0.80208333, 0.81719771,\n",
            "       0.7495915 , 0.76960784, 0.74754902, 0.75428922, 0.76143791,\n",
            "       0.74979575, 0.73999183, 0.72406046, 0.73488562, 0.76021242,\n",
            "       0.79411765, 0.78104575, 0.80412582, 0.77062908, 0.76245915,\n",
            "       0.74652778, 0.75980392, 0.76041667, 0.75490196, 0.74673203])]\n",
            "[0.7120098039215685]\n",
            "\n",
            "[array([0.62418301, 0.62214052, 0.62622549, 0.63378268, 0.62234477,\n",
            "       0.62765523, 0.62888072, 0.62949346, 0.63582516, 0.625     ,\n",
            "       0.57883987, 0.55167484, 0.57618464, 0.58006536, 0.57230392,\n",
            "       0.57781863, 0.58312908, 0.63623366, 0.62642974, 0.63337418,\n",
            "       0.62745098, 0.62254902, 0.6376634 , 0.61294935, 0.63112745,\n",
            "       0.65196078, 0.67075163, 0.66196895, 0.64705882, 0.63970588,\n",
            "       0.62745098, 0.62336601, 0.63868464, 0.63480392, 0.63991013,\n",
            "       0.64767157, 0.62785948, 0.63112745, 0.63194444, 0.67790033,\n",
            "       0.65870098, 0.65890523, 0.64603758, 0.63705065, 0.67544935,\n",
            "       0.66319444, 0.6439951 , 0.62152778, 0.64419935, 0.68198529,\n",
            "       0.6629902 , 0.72691993, 0.75265523, 0.77144608, 0.79166667,\n",
            "       0.79370915, 0.75714869, 0.77736928, 0.80208333, 0.81719771,\n",
            "       0.7495915 , 0.76960784, 0.74754902, 0.75428922, 0.76143791,\n",
            "       0.74979575, 0.73999183, 0.72406046, 0.73488562, 0.76021242,\n",
            "       0.79411765, 0.78104575, 0.80412582, 0.77062908, 0.76245915,\n",
            "       0.74652778, 0.75980392, 0.76041667, 0.75490196, 0.74673203]), array([0.62214052, 0.62622549, 0.63378268, 0.62234477, 0.62765523,\n",
            "       0.62888072, 0.62949346, 0.63582516, 0.625     , 0.57883987,\n",
            "       0.55167484, 0.57618464, 0.58006536, 0.57230392, 0.57781863,\n",
            "       0.58312908, 0.63623366, 0.62642974, 0.63337418, 0.62745098,\n",
            "       0.62254902, 0.6376634 , 0.61294935, 0.63112745, 0.65196078,\n",
            "       0.67075163, 0.66196895, 0.64705882, 0.63970588, 0.62745098,\n",
            "       0.62336601, 0.63868464, 0.63480392, 0.63991013, 0.64767157,\n",
            "       0.62785948, 0.63112745, 0.63194444, 0.67790033, 0.65870098,\n",
            "       0.65890523, 0.64603758, 0.63705065, 0.67544935, 0.66319444,\n",
            "       0.6439951 , 0.62152778, 0.64419935, 0.68198529, 0.6629902 ,\n",
            "       0.72691993, 0.75265523, 0.77144608, 0.79166667, 0.79370915,\n",
            "       0.75714869, 0.77736928, 0.80208333, 0.81719771, 0.7495915 ,\n",
            "       0.76960784, 0.74754902, 0.75428922, 0.76143791, 0.74979575,\n",
            "       0.73999183, 0.72406046, 0.73488562, 0.76021242, 0.79411765,\n",
            "       0.78104575, 0.80412582, 0.77062908, 0.76245915, 0.74652778,\n",
            "       0.75980392, 0.76041667, 0.75490196, 0.74673203, 0.7120098 ])]\n",
            "[0.7120098039215685, 0.7446895424836601]\n",
            "\n"
          ]
        }
      ]
    },
    {
      "cell_type": "code",
      "source": [
        "#convert the x_train and y_train to numpy arrays\n",
        "x_train,y_train=np.array(x_train),np.array(y_train)"
      ],
      "metadata": {
        "id": "jcj6Aliq1cdA"
      },
      "execution_count": 29,
      "outputs": []
    },
    {
      "cell_type": "code",
      "source": [
        "#reshaping the data\n",
        "x_train=np.reshape(x_train,(x_train.shape[0],x_train.shape[1],1))\n",
        "x_train.shape"
      ],
      "metadata": {
        "colab": {
          "base_uri": "https://localhost:8080/"
        },
        "id": "1hETEmh21nwA",
        "outputId": "c0d3cd3f-3252-4f4e-f61c-0261b08b4530"
      },
      "execution_count": 30,
      "outputs": [
        {
          "output_type": "execute_result",
          "data": {
            "text/plain": [
              "(1548, 80, 1)"
            ]
          },
          "metadata": {},
          "execution_count": 30
        }
      ]
    },
    {
      "cell_type": "code",
      "source": [
        "y_train"
      ],
      "metadata": {
        "colab": {
          "base_uri": "https://localhost:8080/"
        },
        "id": "3po1kfbi1pit",
        "outputId": "fe84b0c1-780e-4ad7-83d3-62ce947fdae7"
      },
      "execution_count": 31,
      "outputs": [
        {
          "output_type": "execute_result",
          "data": {
            "text/plain": [
              "array([0.7120098 , 0.74468954, 0.7689951 , ..., 0.1435866 , 0.13419118,\n",
              "       0.1431781 ])"
            ]
          },
          "metadata": {},
          "execution_count": 31
        }
      ]
    },
    {
      "cell_type": "code",
      "source": [
        "model=Sequential()\n",
        "model.add(LSTM(50,return_sequences=True,input_shape=(x_train.shape[1],1)))\n",
        "model.add(Dropout(0.2))\n",
        "model.add(LSTM(50,return_sequences=False))\n",
        "model.add(Dense(25))\n",
        "model.add(Dense(1))"
      ],
      "metadata": {
        "id": "ySv-960B1rQq"
      },
      "execution_count": 32,
      "outputs": []
    },
    {
      "cell_type": "code",
      "source": [
        "model.summary()"
      ],
      "metadata": {
        "colab": {
          "base_uri": "https://localhost:8080/"
        },
        "id": "3eNZ1Cjm1tH7",
        "outputId": "40ed051e-86fa-45f9-c163-d2a77db9b337"
      },
      "execution_count": 33,
      "outputs": [
        {
          "output_type": "stream",
          "name": "stdout",
          "text": [
            "Model: \"sequential\"\n",
            "_________________________________________________________________\n",
            " Layer (type)                Output Shape              Param #   \n",
            "=================================================================\n",
            " lstm (LSTM)                 (None, 80, 50)            10400     \n",
            "                                                                 \n",
            " dropout (Dropout)           (None, 80, 50)            0         \n",
            "                                                                 \n",
            " lstm_1 (LSTM)               (None, 50)                20200     \n",
            "                                                                 \n",
            " dense (Dense)               (None, 25)                1275      \n",
            "                                                                 \n",
            " dense_1 (Dense)             (None, 1)                 26        \n",
            "                                                                 \n",
            "=================================================================\n",
            "Total params: 31,901\n",
            "Trainable params: 31,901\n",
            "Non-trainable params: 0\n",
            "_________________________________________________________________\n"
          ]
        }
      ]
    },
    {
      "cell_type": "code",
      "source": [
        "model.compile(optimizer='adam',loss='mean_squared_error',metrics=['accuracy'])"
      ],
      "metadata": {
        "id": "uj-toeIP1vVy"
      },
      "execution_count": 34,
      "outputs": []
    },
    {
      "cell_type": "code",
      "source": [
        "#train the model\n",
        "model.fit(x_train,y_train,batch_size=64,epochs=100)"
      ],
      "metadata": {
        "colab": {
          "base_uri": "https://localhost:8080/"
        },
        "id": "YZKSE2f-1zCZ",
        "outputId": "2b64b62f-c1eb-4e73-cd78-fedb30ab9388"
      },
      "execution_count": 35,
      "outputs": [
        {
          "output_type": "stream",
          "name": "stdout",
          "text": [
            "Epoch 1/100\n",
            "25/25 [==============================] - 6s 93ms/step - loss: 0.0132 - accuracy: 6.4599e-04\n",
            "Epoch 2/100\n",
            "25/25 [==============================] - 2s 91ms/step - loss: 0.0017 - accuracy: 6.4599e-04\n",
            "Epoch 3/100\n",
            "25/25 [==============================] - 2s 91ms/step - loss: 0.0013 - accuracy: 6.4599e-04\n",
            "Epoch 4/100\n",
            "25/25 [==============================] - 2s 93ms/step - loss: 0.0012 - accuracy: 6.4599e-04\n",
            "Epoch 5/100\n",
            "25/25 [==============================] - 2s 92ms/step - loss: 0.0011 - accuracy: 6.4599e-04\n",
            "Epoch 6/100\n",
            "25/25 [==============================] - 2s 93ms/step - loss: 0.0011 - accuracy: 6.4599e-04\n",
            "Epoch 7/100\n",
            "25/25 [==============================] - 2s 93ms/step - loss: 0.0011 - accuracy: 6.4599e-04\n",
            "Epoch 8/100\n",
            "25/25 [==============================] - 2s 94ms/step - loss: 0.0010 - accuracy: 6.4599e-04\n",
            "Epoch 9/100\n",
            "25/25 [==============================] - 2s 95ms/step - loss: 0.0010 - accuracy: 6.4599e-04\n",
            "Epoch 10/100\n",
            "25/25 [==============================] - 2s 93ms/step - loss: 0.0010 - accuracy: 6.4599e-04\n",
            "Epoch 11/100\n",
            "25/25 [==============================] - 2s 94ms/step - loss: 0.0011 - accuracy: 6.4599e-04\n",
            "Epoch 12/100\n",
            "25/25 [==============================] - 2s 93ms/step - loss: 9.4455e-04 - accuracy: 6.4599e-04\n",
            "Epoch 13/100\n",
            "25/25 [==============================] - 2s 94ms/step - loss: 8.7103e-04 - accuracy: 6.4599e-04\n",
            "Epoch 14/100\n",
            "25/25 [==============================] - 2s 92ms/step - loss: 9.0831e-04 - accuracy: 6.4599e-04\n",
            "Epoch 15/100\n",
            "25/25 [==============================] - 2s 92ms/step - loss: 8.8685e-04 - accuracy: 6.4599e-04\n",
            "Epoch 16/100\n",
            "25/25 [==============================] - 2s 92ms/step - loss: 0.0011 - accuracy: 6.4599e-04\n",
            "Epoch 17/100\n",
            "25/25 [==============================] - 2s 93ms/step - loss: 8.7460e-04 - accuracy: 6.4599e-04\n",
            "Epoch 18/100\n",
            "25/25 [==============================] - 2s 92ms/step - loss: 8.1703e-04 - accuracy: 6.4599e-04\n",
            "Epoch 19/100\n",
            "25/25 [==============================] - 2s 93ms/step - loss: 7.8011e-04 - accuracy: 6.4599e-04\n",
            "Epoch 20/100\n",
            "25/25 [==============================] - 2s 92ms/step - loss: 8.0055e-04 - accuracy: 6.4599e-04\n",
            "Epoch 21/100\n",
            "25/25 [==============================] - 2s 90ms/step - loss: 7.5976e-04 - accuracy: 6.4599e-04\n",
            "Epoch 22/100\n",
            "25/25 [==============================] - 2s 93ms/step - loss: 8.0178e-04 - accuracy: 6.4599e-04\n",
            "Epoch 23/100\n",
            "25/25 [==============================] - 3s 119ms/step - loss: 7.8504e-04 - accuracy: 6.4599e-04\n",
            "Epoch 24/100\n",
            "25/25 [==============================] - 2s 95ms/step - loss: 7.1231e-04 - accuracy: 6.4599e-04\n",
            "Epoch 25/100\n",
            "25/25 [==============================] - 2s 92ms/step - loss: 6.6692e-04 - accuracy: 6.4599e-04\n",
            "Epoch 26/100\n",
            "25/25 [==============================] - 2s 93ms/step - loss: 7.5445e-04 - accuracy: 6.4599e-04\n",
            "Epoch 27/100\n",
            "25/25 [==============================] - 2s 92ms/step - loss: 6.7566e-04 - accuracy: 6.4599e-04\n",
            "Epoch 28/100\n",
            "25/25 [==============================] - 2s 93ms/step - loss: 6.6385e-04 - accuracy: 6.4599e-04\n",
            "Epoch 29/100\n",
            "25/25 [==============================] - 2s 93ms/step - loss: 6.8209e-04 - accuracy: 6.4599e-04\n",
            "Epoch 30/100\n",
            "25/25 [==============================] - 2s 92ms/step - loss: 6.0105e-04 - accuracy: 6.4599e-04\n",
            "Epoch 31/100\n",
            "25/25 [==============================] - 2s 93ms/step - loss: 6.9885e-04 - accuracy: 6.4599e-04\n",
            "Epoch 32/100\n",
            "25/25 [==============================] - 2s 94ms/step - loss: 6.3857e-04 - accuracy: 6.4599e-04\n",
            "Epoch 33/100\n",
            "25/25 [==============================] - 2s 94ms/step - loss: 6.1009e-04 - accuracy: 6.4599e-04\n",
            "Epoch 34/100\n",
            "25/25 [==============================] - 2s 93ms/step - loss: 6.0977e-04 - accuracy: 6.4599e-04\n",
            "Epoch 35/100\n",
            "25/25 [==============================] - 2s 93ms/step - loss: 5.7595e-04 - accuracy: 6.4599e-04\n",
            "Epoch 36/100\n",
            "25/25 [==============================] - 2s 93ms/step - loss: 6.3156e-04 - accuracy: 6.4599e-04\n",
            "Epoch 37/100\n",
            "25/25 [==============================] - 2s 94ms/step - loss: 6.8668e-04 - accuracy: 6.4599e-04\n",
            "Epoch 38/100\n",
            "25/25 [==============================] - 2s 94ms/step - loss: 6.9320e-04 - accuracy: 6.4599e-04\n",
            "Epoch 39/100\n",
            "25/25 [==============================] - 3s 129ms/step - loss: 5.7390e-04 - accuracy: 6.4599e-04\n",
            "Epoch 40/100\n",
            "25/25 [==============================] - 2s 92ms/step - loss: 6.6391e-04 - accuracy: 6.4599e-04\n",
            "Epoch 41/100\n",
            "25/25 [==============================] - 2s 93ms/step - loss: 6.7954e-04 - accuracy: 6.4599e-04\n",
            "Epoch 42/100\n",
            "25/25 [==============================] - 2s 94ms/step - loss: 5.0208e-04 - accuracy: 6.4599e-04\n",
            "Epoch 43/100\n",
            "25/25 [==============================] - 2s 93ms/step - loss: 5.4867e-04 - accuracy: 6.4599e-04\n",
            "Epoch 44/100\n",
            "25/25 [==============================] - 4s 144ms/step - loss: 4.9406e-04 - accuracy: 6.4599e-04\n",
            "Epoch 45/100\n",
            "25/25 [==============================] - 2s 92ms/step - loss: 5.4611e-04 - accuracy: 6.4599e-04\n",
            "Epoch 46/100\n",
            "25/25 [==============================] - 2s 93ms/step - loss: 5.4948e-04 - accuracy: 6.4599e-04\n",
            "Epoch 47/100\n",
            "25/25 [==============================] - 2s 93ms/step - loss: 5.3823e-04 - accuracy: 6.4599e-04\n",
            "Epoch 48/100\n",
            "25/25 [==============================] - 2s 92ms/step - loss: 4.6786e-04 - accuracy: 6.4599e-04\n",
            "Epoch 49/100\n",
            "25/25 [==============================] - 2s 93ms/step - loss: 4.8655e-04 - accuracy: 6.4599e-04\n",
            "Epoch 50/100\n",
            "25/25 [==============================] - 2s 92ms/step - loss: 4.9664e-04 - accuracy: 6.4599e-04\n",
            "Epoch 51/100\n",
            "25/25 [==============================] - 2s 91ms/step - loss: 5.8982e-04 - accuracy: 6.4599e-04\n",
            "Epoch 52/100\n",
            "25/25 [==============================] - 2s 93ms/step - loss: 4.9735e-04 - accuracy: 6.4599e-04\n",
            "Epoch 53/100\n",
            "25/25 [==============================] - 2s 92ms/step - loss: 4.7114e-04 - accuracy: 6.4599e-04\n",
            "Epoch 54/100\n",
            "25/25 [==============================] - 2s 92ms/step - loss: 5.3638e-04 - accuracy: 6.4599e-04\n",
            "Epoch 55/100\n",
            "25/25 [==============================] - 2s 91ms/step - loss: 4.7183e-04 - accuracy: 6.4599e-04\n",
            "Epoch 56/100\n",
            "25/25 [==============================] - 2s 92ms/step - loss: 6.5118e-04 - accuracy: 6.4599e-04\n",
            "Epoch 57/100\n",
            "25/25 [==============================] - 2s 93ms/step - loss: 5.6127e-04 - accuracy: 6.4599e-04\n",
            "Epoch 58/100\n",
            "25/25 [==============================] - 2s 93ms/step - loss: 4.7417e-04 - accuracy: 6.4599e-04\n",
            "Epoch 59/100\n",
            "25/25 [==============================] - 2s 93ms/step - loss: 4.6545e-04 - accuracy: 6.4599e-04\n",
            "Epoch 60/100\n",
            "25/25 [==============================] - 2s 91ms/step - loss: 4.8213e-04 - accuracy: 6.4599e-04\n",
            "Epoch 61/100\n",
            "25/25 [==============================] - 2s 93ms/step - loss: 4.6473e-04 - accuracy: 6.4599e-04\n",
            "Epoch 62/100\n",
            "25/25 [==============================] - 2s 93ms/step - loss: 4.8100e-04 - accuracy: 6.4599e-04\n",
            "Epoch 63/100\n",
            "25/25 [==============================] - 2s 93ms/step - loss: 4.5898e-04 - accuracy: 6.4599e-04\n",
            "Epoch 64/100\n",
            "25/25 [==============================] - 2s 93ms/step - loss: 4.0789e-04 - accuracy: 6.4599e-04\n",
            "Epoch 65/100\n",
            "25/25 [==============================] - 2s 92ms/step - loss: 4.3165e-04 - accuracy: 6.4599e-04\n",
            "Epoch 66/100\n",
            "25/25 [==============================] - 2s 93ms/step - loss: 4.1840e-04 - accuracy: 6.4599e-04\n",
            "Epoch 67/100\n",
            "25/25 [==============================] - 2s 91ms/step - loss: 4.0281e-04 - accuracy: 6.4599e-04\n",
            "Epoch 68/100\n",
            "25/25 [==============================] - 2s 92ms/step - loss: 4.2887e-04 - accuracy: 6.4599e-04\n",
            "Epoch 69/100\n",
            "25/25 [==============================] - 2s 93ms/step - loss: 4.5842e-04 - accuracy: 6.4599e-04\n",
            "Epoch 70/100\n",
            "25/25 [==============================] - 2s 94ms/step - loss: 4.7628e-04 - accuracy: 6.4599e-04\n",
            "Epoch 71/100\n",
            "25/25 [==============================] - 2s 92ms/step - loss: 5.6816e-04 - accuracy: 6.4599e-04\n",
            "Epoch 72/100\n",
            "25/25 [==============================] - 2s 92ms/step - loss: 3.8234e-04 - accuracy: 6.4599e-04\n",
            "Epoch 73/100\n",
            "25/25 [==============================] - 2s 93ms/step - loss: 4.2911e-04 - accuracy: 6.4599e-04\n",
            "Epoch 74/100\n",
            "25/25 [==============================] - 2s 94ms/step - loss: 4.0302e-04 - accuracy: 6.4599e-04\n",
            "Epoch 75/100\n",
            "25/25 [==============================] - 2s 94ms/step - loss: 4.0536e-04 - accuracy: 6.4599e-04\n",
            "Epoch 76/100\n",
            "25/25 [==============================] - 2s 92ms/step - loss: 4.0852e-04 - accuracy: 6.4599e-04\n",
            "Epoch 77/100\n",
            "25/25 [==============================] - 2s 93ms/step - loss: 3.4334e-04 - accuracy: 6.4599e-04\n",
            "Epoch 78/100\n",
            "25/25 [==============================] - 2s 93ms/step - loss: 3.6734e-04 - accuracy: 6.4599e-04\n",
            "Epoch 79/100\n",
            "25/25 [==============================] - 2s 94ms/step - loss: 3.7159e-04 - accuracy: 6.4599e-04\n",
            "Epoch 80/100\n",
            "25/25 [==============================] - 2s 93ms/step - loss: 3.7626e-04 - accuracy: 6.4599e-04\n",
            "Epoch 81/100\n",
            "25/25 [==============================] - 2s 93ms/step - loss: 3.5620e-04 - accuracy: 6.4599e-04\n",
            "Epoch 82/100\n",
            "25/25 [==============================] - 2s 93ms/step - loss: 3.4679e-04 - accuracy: 6.4599e-04\n",
            "Epoch 83/100\n",
            "25/25 [==============================] - 2s 94ms/step - loss: 3.6357e-04 - accuracy: 6.4599e-04\n",
            "Epoch 84/100\n",
            "25/25 [==============================] - 2s 93ms/step - loss: 3.5930e-04 - accuracy: 6.4599e-04\n",
            "Epoch 85/100\n",
            "25/25 [==============================] - 2s 93ms/step - loss: 3.5448e-04 - accuracy: 6.4599e-04\n",
            "Epoch 86/100\n",
            "25/25 [==============================] - 2s 93ms/step - loss: 3.5636e-04 - accuracy: 6.4599e-04\n",
            "Epoch 87/100\n",
            "25/25 [==============================] - 2s 93ms/step - loss: 3.9459e-04 - accuracy: 6.4599e-04\n",
            "Epoch 88/100\n",
            "25/25 [==============================] - 2s 93ms/step - loss: 3.6171e-04 - accuracy: 6.4599e-04\n",
            "Epoch 89/100\n",
            "25/25 [==============================] - 2s 92ms/step - loss: 3.6682e-04 - accuracy: 6.4599e-04\n",
            "Epoch 90/100\n",
            "25/25 [==============================] - 2s 93ms/step - loss: 3.3041e-04 - accuracy: 6.4599e-04\n",
            "Epoch 91/100\n",
            "25/25 [==============================] - 2s 94ms/step - loss: 3.3191e-04 - accuracy: 6.4599e-04\n",
            "Epoch 92/100\n",
            "25/25 [==============================] - 2s 94ms/step - loss: 3.4224e-04 - accuracy: 6.4599e-04\n",
            "Epoch 93/100\n",
            "25/25 [==============================] - 2s 93ms/step - loss: 3.6526e-04 - accuracy: 6.4599e-04\n",
            "Epoch 94/100\n",
            "25/25 [==============================] - 2s 93ms/step - loss: 4.3692e-04 - accuracy: 6.4599e-04\n",
            "Epoch 95/100\n",
            "25/25 [==============================] - 2s 93ms/step - loss: 3.4389e-04 - accuracy: 6.4599e-04\n",
            "Epoch 96/100\n",
            "25/25 [==============================] - 2s 92ms/step - loss: 3.4159e-04 - accuracy: 6.4599e-04\n",
            "Epoch 97/100\n",
            "25/25 [==============================] - 2s 94ms/step - loss: 3.1900e-04 - accuracy: 6.4599e-04\n",
            "Epoch 98/100\n",
            "25/25 [==============================] - 2s 92ms/step - loss: 3.2573e-04 - accuracy: 6.4599e-04\n",
            "Epoch 99/100\n",
            "25/25 [==============================] - 2s 93ms/step - loss: 3.8855e-04 - accuracy: 6.4599e-04\n",
            "Epoch 100/100\n",
            "25/25 [==============================] - 2s 94ms/step - loss: 3.3239e-04 - accuracy: 6.4599e-04\n"
          ]
        },
        {
          "output_type": "execute_result",
          "data": {
            "text/plain": [
              "<keras.callbacks.History at 0x7f8d9a4efe90>"
            ]
          },
          "metadata": {},
          "execution_count": 35
        }
      ]
    },
    {
      "cell_type": "code",
      "source": [
        "#create the testing dataset \n",
        "test_data=scale_data[training_data_len -80:,:]\n",
        "\n",
        "#create the data sets x_test and y_test\n",
        "x_test=[]\n",
        "y_test=dataset[training_data_len:,:]\n",
        "for i in range(80,len(test_data)):\n",
        "  x_test.append(test_data[i-80:i,0])\n"
      ],
      "metadata": {
        "id": "OTrwOpYj11GV"
      },
      "execution_count": 36,
      "outputs": []
    },
    {
      "cell_type": "code",
      "source": [
        "#convert the data to a numpy array\n",
        "x_test=np.array(x_test)"
      ],
      "metadata": {
        "id": "mkUAsizK2LUn"
      },
      "execution_count": 37,
      "outputs": []
    },
    {
      "cell_type": "code",
      "source": [
        "#reshape the data\n",
        "x_test=np.reshape(x_test,(x_test.shape[0],x_test.shape[1],1))"
      ],
      "metadata": {
        "id": "8wvsIo6X2NBG"
      },
      "execution_count": 38,
      "outputs": []
    },
    {
      "cell_type": "code",
      "source": [
        "#get the  models predicted price values\n",
        "predictions=model.predict(x_test)\n",
        "predictions=scaler.inverse_transform(predictions)"
      ],
      "metadata": {
        "id": "EqJyLYhO2OjJ"
      },
      "execution_count": 39,
      "outputs": []
    },
    {
      "cell_type": "code",
      "source": [
        "import math\n",
        "from sklearn.metrics import mean_squared_error\n",
        "math.sqrt(mean_squared_error(predictions,y_test))"
      ],
      "metadata": {
        "colab": {
          "base_uri": "https://localhost:8080/"
        },
        "id": "_wN3KW0Hg19o",
        "outputId": "2da4dae9-ff3c-4ed8-a385-2b4a3cc95d77"
      },
      "execution_count": 40,
      "outputs": [
        {
          "output_type": "execute_result",
          "data": {
            "text/plain": [
              "2.811377736619054"
            ]
          },
          "metadata": {},
          "execution_count": 40
        }
      ]
    },
    {
      "cell_type": "code",
      "source": [
        "#evaluate the model by RMSE\n",
        "rmse=np.sqrt(np.mean(predictions-y_test)**2)\n",
        "rmse\n"
      ],
      "metadata": {
        "colab": {
          "base_uri": "https://localhost:8080/"
        },
        "id": "UVvQ-GIu2QAg",
        "outputId": "c49f9c24-170f-4361-e0b1-020fbe269a25"
      },
      "execution_count": 41,
      "outputs": [
        {
          "output_type": "execute_result",
          "data": {
            "text/plain": [
              "0.15119527680868006"
            ]
          },
          "metadata": {},
          "execution_count": 41
        }
      ]
    },
    {
      "cell_type": "code",
      "source": [
        "#plot the data\n",
        "train=data[:training_data_len]\n",
        "valid=data[training_data_len:]\n",
        "valid['predictions']=predictions\n",
        "\n",
        "#visulaization of data\n",
        "plt.figure(figsize=(18,8))\n",
        "plt.title('Model')\n",
        "plt.xlabel('Date',fontsize=18)\n",
        "plt.ylabel('Close Price USD($)',fontsize=18)\n",
        "plt.plot(train['Close'])\n",
        "#plt.xlim(1990,2020)\n",
        "plt.plot(valid[['Close','predictions']])\n",
        "plt.legend(['Train','Valid','Predictions'],loc='lower right')\n",
        "plt.show()"
      ],
      "metadata": {
        "colab": {
          "base_uri": "https://localhost:8080/",
          "height": 662
        },
        "id": "t2LUnZ4M2Rj6",
        "outputId": "f1aa8bc8-7ec5-4107-f04f-539ca7e6aa69"
      },
      "execution_count": 42,
      "outputs": [
        {
          "output_type": "stream",
          "name": "stderr",
          "text": [
            "/usr/local/lib/python3.7/dist-packages/ipykernel_launcher.py:4: SettingWithCopyWarning: \n",
            "A value is trying to be set on a copy of a slice from a DataFrame.\n",
            "Try using .loc[row_indexer,col_indexer] = value instead\n",
            "\n",
            "See the caveats in the documentation: https://pandas.pydata.org/pandas-docs/stable/user_guide/indexing.html#returning-a-view-versus-a-copy\n",
            "  after removing the cwd from sys.path.\n"
          ]
        },
        {
          "output_type": "display_data",
          "data": {
            "text/plain": [
              "<Figure size 1296x576 with 1 Axes>"
            ],
            "image/png": "[encoded data removed]"
          },
          "metadata": {}
        }
      ]
    },
    {
      "cell_type": "code",
      "source": [
        "valid"
      ],
      "metadata": {
        "colab": {
          "base_uri": "https://localhost:8080/",
          "height": 423
        },
        "id": "RI7DoStF2VC0",
        "outputId": "9ac1bae9-765b-4516-a827-609bc5f1e2fa"
      },
      "execution_count": 43,
      "outputs": [
        {
          "output_type": "execute_result",
          "data": {
            "text/plain": [
              "       Close  predictions\n",
              "1628  120.40   114.619522\n",
              "1629  120.55   116.479393\n",
              "1630  123.35   118.485100\n",
              "1631  125.55   120.878914\n",
              "1632  120.70   123.306129\n",
              "...      ...          ...\n",
              "2030  118.65   116.869026\n",
              "2031  117.60   117.445213\n",
              "2032  120.65   117.476707\n",
              "2033  120.90   118.504730\n",
              "2034  121.55   119.550095\n",
              "\n",
              "[407 rows x 2 columns]"
            ],
            "text/html": [
              "\n",
              "  <div id=\"df-5227163a-95ff-4e87-8a37-aff930086cf8\">\n",
              "    <div class=\"colab-df-container\">\n",
              "      <div>\n",
              "<style scoped>\n",
              "    .dataframe tbody tr th:only-of-type {\n",
              "        vertical-align: middle;\n",
              "    }\n",
              "\n",
              "    .dataframe tbody tr th {\n",
              "        vertical-align: top;\n",
              "    }\n",
              "\n",
              "    .dataframe thead th {\n",
              "        text-align: right;\n",
              "    }\n",
              "</style>\n",
              "<table border=\"1\" class=\"dataframe\">\n",
              "  <thead>\n",
              "    <tr style=\"text-align: right;\">\n",
              "      <th></th>\n",
              "      <th>Close</th>\n",
              "      <th>predictions</th>\n",
              "    </tr>\n",
              "  </thead>\n",
              "  <tbody>\n",
              "    <tr>\n",
              "      <th>1628</th>\n",
              "      <td>120.40</td>\n",
              "      <td>114.619522</td>\n",
              "    </tr>\n",
              "    <tr>\n",
              "      <th>1629</th>\n",
              "      <td>120.55</td>\n",
              "      <td>116.479393</td>\n",
              "    </tr>\n",
              "    <tr>\n",
              "      <th>1630</th>\n",
              "      <td>123.35</td>\n",
              "      <td>118.485100</td>\n",
              "    </tr>\n",
              "    <tr>\n",
              "      <th>1631</th>\n",
              "      <td>125.55</td>\n",
              "      <td>120.878914</td>\n",
              "    </tr>\n",
              "    <tr>\n",
              "      <th>1632</th>\n",
              "      <td>120.70</td>\n",
              "      <td>123.306129</td>\n",
              "    </tr>\n",
              "    <tr>\n",
              "      <th>...</th>\n",
              "      <td>...</td>\n",
              "      <td>...</td>\n",
              "    </tr>\n",
              "    <tr>\n",
              "      <th>2030</th>\n",
              "      <td>118.65</td>\n",
              "      <td>116.869026</td>\n",
              "    </tr>\n",
              "    <tr>\n",
              "      <th>2031</th>\n",
              "      <td>117.60</td>\n",
              "      <td>117.445213</td>\n",
              "    </tr>\n",
              "    <tr>\n",
              "      <th>2032</th>\n",
              "      <td>120.65</td>\n",
              "      <td>117.476707</td>\n",
              "    </tr>\n",
              "    <tr>\n",
              "      <th>2033</th>\n",
              "      <td>120.90</td>\n",
              "      <td>118.504730</td>\n",
              "    </tr>\n",
              "    <tr>\n",
              "      <th>2034</th>\n",
              "      <td>121.55</td>\n",
              "      <td>119.550095</td>\n",
              "    </tr>\n",
              "  </tbody>\n",
              "</table>\n",
              "<p>407 rows × 2 columns</p>\n",
              "</div>\n",
              "      <button class=\"colab-df-convert\" onclick=\"convertToInteractive('df-5227163a-95ff-4e87-8a37-aff930086cf8')\"\n",
              "              title=\"Convert this dataframe to an interactive table.\"\n",
              "              style=\"display:none;\">\n",
              "        \n",
              "  <svg xmlns=\"http://www.w3.org/2000/svg\" height=\"24px\"viewBox=\"0 0 24 24\"\n",
              "       width=\"24px\">\n",
              "    <path d=\"M0 0h24v24H0V0z\" fill=\"none\"/>\n",
              "    <path d=\"M18.56 5.44l.94 2.06.94-2.06 2.06-.94-2.06-.94-.94-2.06-.94 2.06-2.06.94zm-11 1L8.5 8.5l.94-2.06 2.06-.94-2.06-.94L8.5 2.5l-.94 2.06-2.06.94zm10 10l.94 2.06.94-2.06 2.06-.94-2.06-.94-.94-2.06-.94 2.06-2.06.94z\"/><path d=\"M17.41 7.96l-1.37-1.37c-.4-.4-.92-.59-1.43-.59-.52 0-1.04.2-1.43.59L10.3 9.45l-7.72 7.72c-.78.78-.78 2.05 0 2.83L4 21.41c.39.39.9.59 1.41.59.51 0 1.02-.2 1.41-.59l7.78-7.78 2.81-2.81c.8-.78.8-2.07 0-2.86zM5.41 20L4 18.59l7.72-7.72 1.47 1.35L5.41 20z\"/>\n",
              "  </svg>\n",
              "      </button>\n",
              "      \n",
              "  <style>\n",
              "    .colab-df-container {\n",
              "      display:flex;\n",
              "      flex-wrap:wrap;\n",
              "      gap: 12px;\n",
              "    }\n",
              "\n",
              "    .colab-df-convert {\n",
              "      background-color: #E8F0FE;\n",
              "      border: none;\n",
              "      border-radius: 50%;\n",
              "      cursor: pointer;\n",
              "      display: none;\n",
              "      fill: #1967D2;\n",
              "      height: 32px;\n",
              "      padding: 0 0 0 0;\n",
              "      width: 32px;\n",
              "    }\n",
              "\n",
              "    .colab-df-convert:hover {\n",
              "      background-color: #E2EBFA;\n",
              "      box-shadow: 0px 1px 2px rgba(60, 64, 67, 0.3), 0px 1px 3px 1px rgba(60, 64, 67, 0.15);\n",
              "      fill: #174EA6;\n",
              "    }\n",
              "\n",
              "    [theme=dark] .colab-df-convert {\n",
              "      background-color: #3B4455;\n",
              "      fill: #D2E3FC;\n",
              "    }\n",
              "\n",
              "    [theme=dark] .colab-df-convert:hover {\n",
              "      background-color: #434B5C;\n",
              "      box-shadow: 0px 1px 3px 1px rgba(0, 0, 0, 0.15);\n",
              "      filter: drop-shadow(0px 1px 2px rgba(0, 0, 0, 0.3));\n",
              "      fill: #FFFFFF;\n",
              "    }\n",
              "  </style>\n",
              "\n",
              "      <script>\n",
              "        const buttonEl =\n",
              "          document.querySelector('#df-5227163a-95ff-4e87-8a37-aff930086cf8 button.colab-df-convert');\n",
              "        buttonEl.style.display =\n",
              "          google.colab.kernel.accessAllowed ? 'block' : 'none';\n",
              "\n",
              "        async function convertToInteractive(key) {\n",
              "          const element = document.querySelector('#df-5227163a-95ff-4e87-8a37-aff930086cf8');\n",
              "          const dataTable =\n",
              "            await google.colab.kernel.invokeFunction('convertToInteractive',\n",
              "                                                     [key], {});\n",
              "          if (!dataTable) return;\n",
              "\n",
              "          const docLinkHtml = 'Like what you see? Visit the ' +\n",
              "            '<a target=\"_blank\" href=https://colab.research.google.com/notebooks/data_table.ipynb>data table notebook</a>'\n",
              "            + ' to learn more about interactive tables.';\n",
              "          element.innerHTML = '';\n",
              "          dataTable['output_type'] = 'display_data';\n",
              "          await google.colab.output.renderOutput(dataTable, element);\n",
              "          const docLink = document.createElement('div');\n",
              "          docLink.innerHTML = docLinkHtml;\n",
              "          element.appendChild(docLink);\n",
              "        }\n",
              "      </script>\n",
              "    </div>\n",
              "  </div>\n",
              "  "
            ]
          },
          "metadata": {},
          "execution_count": 43
        }
      ]
    },
    {
      "cell_type": "code",
      "source": [
        ""
      ],
      "metadata": {
        "id": "UUwVYDA42mM9"
      },
      "execution_count": 43,
      "outputs": []
    }
  ]
}